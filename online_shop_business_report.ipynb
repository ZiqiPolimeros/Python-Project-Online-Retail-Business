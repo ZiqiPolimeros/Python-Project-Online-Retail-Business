{
 "cells": [
  {
   "cell_type": "markdown",
   "metadata": {},
   "source": [
    "<br>"
   ]
  },
  {
   "cell_type": "markdown",
   "metadata": {},
   "source": [
    "<br>"
   ]
  },
  {
   "cell_type": "markdown",
   "metadata": {},
   "source": [
    "<h1><span style=\"color:blue\">Python Project: An Online Retail Business</span></h1>"
   ]
  },
  {
   "cell_type": "markdown",
   "metadata": {},
   "source": [
    "##### Ziqi Polimeros \n",
    "##### NYC Data Science Academy\n",
    "##### Mentor: Stella Kim,  Ariella Brown\n",
    "##### 3/8/2022"
   ]
  },
  {
   "cell_type": "markdown",
   "metadata": {},
   "source": [
    "!['ecommerce'](https://github.com/ZiqiPolimeros/Python-Project-Online-Retail-Business/blob/main/pictures/ecommerce.jpg?raw=true)\n",
    "\n"
   ]
  },
  {
   "cell_type": "markdown",
   "metadata": {},
   "source": [
    "<h2><span style=\"color:blue\">Introduction</span></h2>  "
   ]
  },
  {
   "cell_type": "markdown",
   "metadata": {},
   "source": [
    "#### Introduction : Growth of E-commerce"
   ]
  },
  {
   "cell_type": "markdown",
   "metadata": {},
   "source": [
    "E-commerce has kept growing and became a new channel to support businesses development. It has helped large retailers expand their customer base by selling online and given small businesses a chance to sell directly to customers on their own sites or through a platform like Amazon’s.  As a result, jobs created for e-commerce have grown 334% since 2002[1]. E-commerce has become the preferred way for many more people to shop. Particularly after COVID,  when many stores were closed or people wished to avoid going out among other shoppers,  the convenience of delivery to the home became necessary. \n"
   ]
  },
  {
   "cell_type": "markdown",
   "metadata": {},
   "source": [
    "![ecommerce](https://github.com/ZiqiPolimeros/Python-Project-Online-Retail-Business/blob/8193b0933a16e46a0a6ef880411e4c72eb9a12e8/pictures/growth.jpg?raw=true)"
   ]
  },
  {
   "cell_type": "markdown",
   "metadata": {},
   "source": [
    "[2]"
   ]
  },
  {
   "cell_type": "markdown",
   "metadata": {},
   "source": [
    "#### Introduction : An International Online Retail Business"
   ]
  },
  {
   "cell_type": "markdown",
   "metadata": {},
   "source": [
    "The owner of the online store also has small businesses that buy in bulk and sell to other customers through retail outlet channels.\n",
    "Information about the online shop business sales transactions:\n",
    "- Business model: B2C retailer\n",
    "- Location: London\n",
    "- Year established: 2007\n",
    "- Time of the dataset: 12.2018 - 12.2019\n",
    "- Size of the dataset: 500 thousand rows and 8 columns\n",
    "\n",
    "    \n"
   ]
  },
  {
   "cell_type": "markdown",
   "metadata": {},
   "source": [
    "<h2><span style=\"color:blue\">Data Analysis</span></h2>"
   ]
  },
  {
   "cell_type": "markdown",
   "metadata": {},
   "source": [
    "We used Python built-in modules and analyzed sales, products and customers of the company."
   ]
  },
  {
   "cell_type": "markdown",
   "metadata": {},
   "source": [
    "#### Analysis:  Overview"
   ]
  },
  {
   "cell_type": "markdown",
   "metadata": {},
   "source": [
    "![\"sales\"](https://github.com/ZiqiPolimeros/Python-Project-Online-Retail-Business/blob/main/pictures/overview.png?raw=true)"
   ]
  },
  {
   "cell_type": "markdown",
   "metadata": {},
   "source": [
    "![\"sales\"](https://github.com/ZiqiPolimeros/Python-Project-Online-Retail-Business/blob/main/pictures/overview_c_p.png?raw=true)"
   ]
  },
  {
   "cell_type": "markdown",
   "metadata": {},
   "source": [
    "#### Discussion 1:\n",
    "- The total sales revenue was about 65 million pounds sterling in 13 months. The biggest single sale revenue was over one million.\n",
    "- The total volume of business was over five million products with about 3800 product IDs.\n",
    "- The company served about 4800 customers in 38 countries.\n"
   ]
  },
  {
   "cell_type": "markdown",
   "metadata": {},
   "source": [
    "<br>"
   ]
  },
  {
   "cell_type": "markdown",
   "metadata": {},
   "source": [
    "#### Analysis:  Monthly Sales "
   ]
  },
  {
   "cell_type": "markdown",
   "metadata": {},
   "source": [
    "![\"sales\"](https://github.com/ZiqiPolimeros/Python-Project-Online-Retail-Business/blob/main/pictures/1_sales.png?raw=true)"
   ]
  },
  {
   "cell_type": "markdown",
   "metadata": {},
   "source": [
    "#### Discussion 2: \n",
    "- According to the monthly sales graph, over 90% of sales revenue was from Europe.\n",
    "- The sales revenue increased from December 2018 to August 2019 and grew rapidly after September. The revenue from November was more than double the amount of the lowest sales month (2019/2).\n",
    "- Sales of the last month were very low. Because there were only ten sale days recorded in December.\n"
   ]
  },
  {
   "cell_type": "markdown",
   "metadata": {},
   "source": [
    "<br>"
   ]
  },
  {
   "cell_type": "markdown",
   "metadata": {},
   "source": [
    "#### Analysis:  Customers"
   ]
  },
  {
   "cell_type": "markdown",
   "metadata": {},
   "source": [
    "![\"sales\"](https://github.com/ZiqiPolimeros/Python-Project-Online-Retail-Business/blob/main/pictures/5_customer.png?raw=true)"
   ]
  },
  {
   "cell_type": "markdown",
   "metadata": {},
   "source": [
    "#### Discussion 3:\n",
    "- Most of the top 20 buyers were from the United Kingdom. The biggest buyer, however,  was in the Netherlands and spent about 2.3 million pounds sterling.\n",
    "- There were 102 customers who only purchased once, and the one-time customers rate was 2.15%.\n"
   ]
  },
  {
   "cell_type": "markdown",
   "metadata": {},
   "source": [
    "<br>"
   ]
  },
  {
   "cell_type": "markdown",
   "metadata": {},
   "source": [
    "#### Analysis: Products"
   ]
  },
  {
   "cell_type": "markdown",
   "metadata": {},
   "source": [
    "![\"sales\"](https://github.com/ZiqiPolimeros/Python-Project-Online-Retail-Business/blob/main/pictures/2_product.png?raw=true)"
   ]
  },
  {
   "cell_type": "markdown",
   "metadata": {},
   "source": [
    "<br>"
   ]
  },
  {
   "cell_type": "markdown",
   "metadata": {},
   "source": [
    "![\"sales\"](https://github.com/ZiqiPolimeros/Python-Project-Online-Retail-Business/blob/main/pictures/3_product.png?raw=true)"
   ]
  },
  {
   "cell_type": "markdown",
   "metadata": {},
   "source": [
    "#### Discussion 4:\n",
    "- The most popular product was a popcorn holder with total sales of almost 600 thousand pounds sterling.\n",
    "- The product return rate was 5.06%. The top 20 return products were from the United Kingdom.\n"
   ]
  },
  {
   "cell_type": "markdown",
   "metadata": {},
   "source": [
    "<br>"
   ]
  },
  {
   "cell_type": "markdown",
   "metadata": {},
   "source": [
    "![\"sales\"](https://github.com/ZiqiPolimeros/Python-Project-Online-Retail-Business/blob/main/pictures/4_product.png?raw=true)"
   ]
  },
  {
   "cell_type": "markdown",
   "metadata": {},
   "source": [
    "#### Discussion 5:\n",
    "- We made a correlation heatmap of the top 60 selling products. It shows that the absolute value of correlation coefficient of the great majority of the 60 products were smaller than 0.3. From the graph, we can say that very few of these products were accessories. They were all stand-alone products.\n"
   ]
  },
  {
   "cell_type": "markdown",
   "metadata": {},
   "source": [
    "<br>"
   ]
  },
  {
   "cell_type": "markdown",
   "metadata": {},
   "source": [
    "<h2><span style=\"color:blue\">Suggestions </span></h2>"
   ]
  },
  {
   "cell_type": "markdown",
   "metadata": {},
   "source": [
    "- The one-time purchase customer rate was 2.15% which means that the repeat customer rate was 97.85%. A repeat customer rate that is viewed as successful is between 20% to 40%[3]. We suggest that the company can invest more in marketing to expand the customer base.\n",
    "- The product return rate of the year was 5.06%,  which is considered a low return rate as compared to the average return rate 10.6%[4]. However, the top return product refunds were over one million pounds sterling, and the second largest refund was over 0.75 million pounds sterling. Usually, a top return product was purchased by a lot of different customers. However, the top return product, Paper Craft Little Birdie, was purchased only once in 13 months. We can check the product’s quality, webpage demonstration and sale process to find out what needs to be improved. \n",
    "- Based on the heatmap graph, we can tell that most of the popular products were not related to each other. We suggest that the company offer some sales promotions or recommendations for product pairings (Customers who bought this also bought that) to increase the quantities of products. \n"
   ]
  },
  {
   "cell_type": "markdown",
   "metadata": {},
   "source": [
    "<br>"
   ]
  },
  {
   "cell_type": "markdown",
   "metadata": {},
   "source": [
    "<h2><span style=\"color:blue\">References </span></h2>"
   ]
  },
  {
   "cell_type": "markdown",
   "metadata": {},
   "source": [
    "[1] \"How the Growth of E-Commerce Is Shifting Retail Jobs\". The New Nork Times.July 6 2017. <br>\n",
    "[2] \"E-commerce growth has hit a two-year high\". Insider. August 17 2016. <br>\n",
    "     https://www.businessinsider.com/e-commerce-growth-has-hit-a-two-year-high-2016-8 <br>\n",
    "[3] \"Repeat Customer Rate\". Geckoboard.com. <br>\n",
    "     https://www.geckoboard.com/best-practice/kpi-examples/percent-returning-customers <br>\n",
    "[4] Repko Melissa. \"A more than $761 billion dilemma: Retailers’ returns jump as online sales grow\". CNBC. January 25 2022. <br>\n",
    "     https://www.cnbc.com/2022/01/25/retailers-average-return-rate-jumps-to-16point6percent-as-online-sales-grow-.html  \n",
    "\n",
    "    \n",
    "Dataset source： https://www.kaggle.com/gabrielramos87/an-online-shop-business"
   ]
  },
  {
   "cell_type": "markdown",
   "metadata": {},
   "source": [
    "<br>"
   ]
  },
  {
   "cell_type": "markdown",
   "metadata": {},
   "source": [
    "<br>"
   ]
  }
 ],
 "metadata": {
  "kernelspec": {
   "display_name": "Python 3 (ipykernel)",
   "language": "python",
   "name": "python3"
  },
  "language_info": {
   "codemirror_mode": {
    "name": "ipython",
    "version": 3
   },
   "file_extension": ".py",
   "mimetype": "text/x-python",
   "name": "python",
   "nbconvert_exporter": "python",
   "pygments_lexer": "ipython3",
   "version": "3.8.12"
  }
 },
 "nbformat": 4,
 "nbformat_minor": 4
}
